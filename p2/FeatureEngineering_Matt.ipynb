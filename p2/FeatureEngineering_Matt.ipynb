{
 "cells": [
  {
   "cell_type": "code",
   "execution_count": 14,
   "metadata": {
    "collapsed": false
   },
   "outputs": [],
   "source": [
    "import numpy as np\n",
    "import classification_starter as cs\n",
    "import time as t\n",
    "import sklearn as sk\n",
    "import random"
   ]
  },
  {
   "cell_type": "code",
   "execution_count": 25,
   "metadata": {
    "collapsed": false
   },
   "outputs": [
    {
     "name": "stdout",
     "output_type": "stream",
     "text": [
      "extracting training features...\n",
      "done extracting training features\n",
      "\n",
      "learning...\n",
      "done learning\n",
      "\n",
      "extracting test features...\n"
     ]
    },
    {
     "ename": "KeyboardInterrupt",
     "evalue": "",
     "output_type": "error",
     "traceback": [
      "\u001b[0;31m---------------------------------------------------------------------------\u001b[0m",
      "\u001b[0;31mKeyboardInterrupt\u001b[0m                         Traceback (most recent call last)",
      "\u001b[0;32m<ipython-input-25-78235379d33a>\u001b[0m in \u001b[0;36m<module>\u001b[0;34m()\u001b[0m\n\u001b[1;32m      2\u001b[0m \u001b[0;34m\u001b[0m\u001b[0m\n\u001b[1;32m      3\u001b[0m \u001b[0mBT\u001b[0m\u001b[0;34m=\u001b[0m\u001b[0mt\u001b[0m\u001b[0;34m.\u001b[0m\u001b[0mtime\u001b[0m\u001b[0;34m(\u001b[0m\u001b[0;34m)\u001b[0m\u001b[0;34m\u001b[0m\u001b[0m\n\u001b[0;32m----> 4\u001b[0;31m \u001b[0mmain\u001b[0m\u001b[0;34m(\u001b[0m\u001b[0;34m)\u001b[0m\u001b[0;34m\u001b[0m\u001b[0m\n\u001b[0m\u001b[1;32m      5\u001b[0m \u001b[0mET\u001b[0m\u001b[0;34m=\u001b[0m\u001b[0mt\u001b[0m\u001b[0;34m.\u001b[0m\u001b[0mtime\u001b[0m\u001b[0;34m(\u001b[0m\u001b[0;34m)\u001b[0m\u001b[0;34m\u001b[0m\u001b[0m\n\u001b[1;32m      6\u001b[0m \u001b[0;34m\u001b[0m\u001b[0m\n",
      "\u001b[0;32m/Users/matheusfernandes/Dropbox/School/CS181-MachineLearning/cs181-s17-practicals/p2/classification_starter2.py\u001b[0m in \u001b[0;36mmain\u001b[0;34m()\u001b[0m\n\u001b[1;32m    255\u001b[0m     \u001b[0mreturns\u001b[0m\u001b[0;34m:\u001b[0m\u001b[0;34m\u001b[0m\u001b[0m\n\u001b[1;32m    256\u001b[0m       \u001b[0ma\u001b[0m \u001b[0mdictionary\u001b[0m \u001b[0mmapping\u001b[0m \u001b[0;34m'num_system_calls'\u001b[0m \u001b[0mto\u001b[0m \u001b[0mthe\u001b[0m \u001b[0mnumber\u001b[0m \u001b[0mof\u001b[0m \u001b[0msystem_calls\u001b[0m\u001b[0;34m\u001b[0m\u001b[0m\n\u001b[0;32m--> 257\u001b[0;31m       \u001b[0mmade\u001b[0m \u001b[0mby\u001b[0m \u001b[0man\u001b[0m \u001b[0mexecutable\u001b[0m \u001b[0;34m(\u001b[0m\u001b[0msummed\u001b[0m \u001b[0mover\u001b[0m \u001b[0mall\u001b[0m \u001b[0mprocesses\u001b[0m\u001b[0;34m)\u001b[0m\u001b[0;34m\u001b[0m\u001b[0m\n\u001b[0m\u001b[1;32m    258\u001b[0m     \"\"\"\n\u001b[1;32m    259\u001b[0m     \u001b[0mc\u001b[0m \u001b[0;34m=\u001b[0m \u001b[0mCounter\u001b[0m\u001b[0;34m(\u001b[0m\u001b[0;34m)\u001b[0m\u001b[0;34m\u001b[0m\u001b[0m\n",
      "\u001b[0;32m/Users/matheusfernandes/Dropbox/School/CS181-MachineLearning/cs181-s17-practicals/p2/classification_starter2.py\u001b[0m in \u001b[0;36mextract_feats\u001b[0;34m(ffs, direc, global_feat_dict)\u001b[0m\n\u001b[1;32m    115\u001b[0m         \u001b[0mrowfd\u001b[0m \u001b[0;34m=\u001b[0m \u001b[0;34m{\u001b[0m\u001b[0;34m}\u001b[0m\u001b[0;34m\u001b[0m\u001b[0m\n\u001b[1;32m    116\u001b[0m         \u001b[0;31m# parse file as an xml document\u001b[0m\u001b[0;34m\u001b[0m\u001b[0;34m\u001b[0m\u001b[0m\n\u001b[0;32m--> 117\u001b[0;31m         \u001b[0mtree\u001b[0m \u001b[0;34m=\u001b[0m \u001b[0mET\u001b[0m\u001b[0;34m.\u001b[0m\u001b[0mparse\u001b[0m\u001b[0;34m(\u001b[0m\u001b[0mos\u001b[0m\u001b[0;34m.\u001b[0m\u001b[0mpath\u001b[0m\u001b[0;34m.\u001b[0m\u001b[0mjoin\u001b[0m\u001b[0;34m(\u001b[0m\u001b[0mdirec\u001b[0m\u001b[0;34m,\u001b[0m\u001b[0mdatafile\u001b[0m\u001b[0;34m)\u001b[0m\u001b[0;34m)\u001b[0m\u001b[0;34m\u001b[0m\u001b[0m\n\u001b[0m\u001b[1;32m    118\u001b[0m         \u001b[0;31m# accumulate features\u001b[0m\u001b[0;34m\u001b[0m\u001b[0;34m\u001b[0m\u001b[0m\n\u001b[1;32m    119\u001b[0m         \u001b[0;34m[\u001b[0m\u001b[0mrowfd\u001b[0m\u001b[0;34m.\u001b[0m\u001b[0mupdate\u001b[0m\u001b[0;34m(\u001b[0m\u001b[0mff\u001b[0m\u001b[0;34m(\u001b[0m\u001b[0mtree\u001b[0m\u001b[0;34m)\u001b[0m\u001b[0;34m)\u001b[0m \u001b[0;32mfor\u001b[0m \u001b[0mff\u001b[0m \u001b[0;32min\u001b[0m \u001b[0mffs\u001b[0m\u001b[0;34m]\u001b[0m\u001b[0;34m\u001b[0m\u001b[0m\n",
      "\u001b[0;32m<string>\u001b[0m in \u001b[0;36mparse\u001b[0;34m(source, parser)\u001b[0m\n",
      "\u001b[0;32m<string>\u001b[0m in \u001b[0;36mparse\u001b[0;34m(self, source, parser)\u001b[0m\n",
      "\u001b[0;31mKeyboardInterrupt\u001b[0m: "
     ]
    }
   ],
   "source": [
    "from classification_starter2 import *\n",
    "\n",
    "BT=t.time()\n",
    "main()\n",
    "ET=t.time()\n",
    "\n",
    "print ET-BT"
   ]
  },
  {
   "cell_type": "code",
   "execution_count": 1,
   "metadata": {
    "collapsed": false
   },
   "outputs": [
    {
     "name": "stdout",
     "output_type": "stream",
     "text": [
      "['Counter', 'ET', '__builtins__', '__doc__', '__file__', '__name__', '__package__', 'extract_feats', 'feat_counts', 'first_last_system_call_feats', 'main', 'make_design_mat', 'np', 'os', 'sparse', 'system_call_count_feats', 'util']\n"
     ]
    }
   ],
   "source": [
    "import classification_starter2 as fffff\n",
    "print dir(fffff)\n"
   ]
  },
  {
   "cell_type": "code",
   "execution_count": null,
   "metadata": {
    "collapsed": false
   },
   "outputs": [],
   "source": [
    "from classification_starter2 import *\n",
    "\n",
    "train_dir = \"train\"\n",
    "test_dir = \"test\"\n",
    "outputfile = \"mypredictions.csv\"  # feel free to change this or take it as an argument\n",
    "\n",
    "# TODO put the names of the feature functions you've defined above in this list\n",
    "ffs = [first_last_system_call_feats, system_call_count_feats, feat_counts]\n",
    "\n",
    "# extract features\n",
    "print \"extracting training features...\"\n",
    "X_train,global_feat_dict,t_train,train_ids = extract_feats(ffs, train_dir)\n",
    "print \"done extracting training features\"\n",
    "print"
   ]
  },
  {
   "cell_type": "code",
   "execution_count": null,
   "metadata": {
    "collapsed": false
   },
   "outputs": [],
   "source": [
    "X_train.shape"
   ]
  },
  {
   "cell_type": "code",
   "execution_count": 113,
   "metadata": {
    "collapsed": false
   },
   "outputs": [
    {
     "name": "stdout",
     "output_type": "stream",
     "text": [
      "2528\n",
      "()\n",
      "(2528,)\n"
     ]
    }
   ],
   "source": [
    "Partition=1./5.\n",
    "trainNum=X_train.shape[0]\n",
    "Numbers=int(trainNum*Partition)\n",
    "randomInd=[]\n",
    "for i in xrange(Numbers):\n",
    "    randomInd.append(random.randint(0, trainNum-1))\n",
    "X_train_test=X_train[randomInd]\n",
    "t_train_test=t_train[randomInd]\n",
    "train_ids_test=[train_ids[ii] for ii in randomInd]\n",
    "\n",
    "X_train_train=np.delete(X_train,randomInd,0)\n",
    "t_train_train=np.delete(t_train,randomInd,0)\n",
    "train_ids_train=np.delete(train_ids,randomInd,0)\n",
    "\n",
    "\n",
    "# print X_train_train\n",
    "print len(train_ids_train)\n",
    "print X_train_train.shape\n",
    "print t_train_train.shape\n"
   ]
  },
  {
   "cell_type": "code",
   "execution_count": 96,
   "metadata": {
    "collapsed": false
   },
   "outputs": [
    {
     "name": "stdout",
     "output_type": "stream",
     "text": [
      "learning...\n",
      "done learning\n",
      "\n"
     ]
    }
   ],
   "source": [
    "from classification_starter import *\n",
    "\n",
    "# TODO train here, and learn your classification parameters\n",
    "print \"learning...\"\n",
    "learned_W = np.random.random((len(global_feat_dict),len(util.malware_classes)))\n",
    "print \"done learning\"\n",
    "print"
   ]
  },
  {
   "cell_type": "code",
   "execution_count": 62,
   "metadata": {
    "collapsed": false
   },
   "outputs": [
    {
     "name": "stdout",
     "output_type": "stream",
     "text": [
      "extracting test features...\n",
      "done extracting test features\n",
      "\n"
     ]
    }
   ],
   "source": [
    "from classification_starter import *\n",
    "\n",
    "# get rid of training data and load test data\n",
    "del X_train\n",
    "del t_train\n",
    "del train_ids\n",
    "print \"extracting test features...\"\n",
    "X_test,_,t_ignore,test_ids = extract_feats(ffs, test_dir, global_feat_dict=global_feat_dict)\n",
    "print \"done extracting test features\"\n",
    "print"
   ]
  },
  {
   "cell_type": "code",
   "execution_count": 77,
   "metadata": {
    "collapsed": false
   },
   "outputs": [
    {
     "name": "stdout",
     "output_type": "stream",
     "text": [
      "making predictions...\n",
      "done making predictions\n",
      "[ 0.  0.  0. ...,  0.  0.  0.]\n",
      "(3724,)\n"
     ]
    }
   ],
   "source": [
    "from classification_starter import *\n",
    "\n",
    "\n",
    "# TODO make predictions on text data and write them out\n",
    "print \"making predictions...\"\n",
    "preds = np.argmax(X_test.dot(learned_W),axis=1)\n",
    "print \"done making predictions\"\n",
    "\n"
   ]
  },
  {
   "cell_type": "code",
   "execution_count": 78,
   "metadata": {
    "collapsed": false
   },
   "outputs": [
    {
     "name": "stdout",
     "output_type": "stream",
     "text": [
      "writing predictions...\n",
      "done!\n"
     ]
    }
   ],
   "source": [
    "print \"writing predictions...\"\n",
    "util.write_predictions(preds, test_ids, outputfile)\n",
    "print \"done!\""
   ]
  },
  {
   "cell_type": "code",
   "execution_count": null,
   "metadata": {
    "collapsed": true
   },
   "outputs": [],
   "source": [
    "### Creating uniform vectors\n",
    "\n",
    "from classification_starter import *\n",
    "\n",
    "\n",
    "# TODO make predictions on text data and write them out\n",
    "print \"making predictions...\"\n",
    "preds = np.ones(X_test.shape[0])*0#np.argmax(X_test.dot(learned_W),axis=1)\n",
    "print \"done making predictions\"\n",
    "print preds\n",
    "print preds.shape\n",
    "\n",
    "print \"writing predictions...\"\n",
    "util.write_predictions(preds, test_ids, outputfile)\n",
    "print \"done!\""
   ]
  }
 ],
 "metadata": {
  "kernelspec": {
   "display_name": "Python 2",
   "language": "python",
   "name": "python2"
  },
  "language_info": {
   "codemirror_mode": {
    "name": "ipython",
    "version": 2
   },
   "file_extension": ".py",
   "mimetype": "text/x-python",
   "name": "python",
   "nbconvert_exporter": "python",
   "pygments_lexer": "ipython2",
   "version": "2.7.13"
  }
 },
 "nbformat": 4,
 "nbformat_minor": 0
}
