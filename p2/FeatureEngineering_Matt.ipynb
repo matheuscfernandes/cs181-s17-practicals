{
 "cells": [
  {
   "cell_type": "code",
   "execution_count": 1,
   "metadata": {
    "collapsed": false
   },
   "outputs": [],
   "source": [
    "import numpy as np\n",
    "import classification_starter as cs\n",
    "import time as t\n",
    "import sklearn as sk\n",
    "import random\n",
    "%load_ext autoreload\n",
    "%autoreload 1"
   ]
  },
  {
   "cell_type": "code",
   "execution_count": 3,
   "metadata": {
    "collapsed": false
   },
   "outputs": [
    {
     "name": "stdout",
     "output_type": "stream",
     "text": [
      "8.70227813721e-05\n"
     ]
    }
   ],
   "source": [
    "from classification_starter2 import *\n",
    "import classification_starter2 as ffff\n",
    "\n",
    "BT=t.time()\n",
    "# main()\n",
    "ET=t.time()\n",
    "\n",
    "print ET-BT"
   ]
  },
  {
   "cell_type": "code",
   "execution_count": 13,
   "metadata": {
    "collapsed": false
   },
   "outputs": [
    {
     "name": "stdout",
     "output_type": "stream",
     "text": [
      "['Counter', 'ET', '__builtins__', '__file__', '__name__', '__package__', 'all_feats', 'extract_feats', 'feat_counts', 'first_last_system_call_feats', 'main', 'make_design_mat', 'np', 'os', 'sparse', 'util']\n"
     ]
    }
   ],
   "source": [
    "%autoreload\n",
    "print dir(ffff)\n"
   ]
  },
  {
   "cell_type": "code",
   "execution_count": 2,
   "metadata": {
    "collapsed": false
   },
   "outputs": [
    {
     "name": "stdout",
     "output_type": "stream",
     "text": [
      "extracting training features...\n",
      "done extracting training features\n",
      "\n"
     ]
    }
   ],
   "source": [
    "from classification_starter2 import *\n",
    "%autoreload\n",
    "\n",
    "train_dir = \"train\"\n",
    "test_dir = \"test\"\n",
    "outputfile = \"mypredictions.csv\"  # feel free to change this or take it as an argument\n",
    "\n",
    "# TODO put the names of the feature functions you've defined above in this list\n",
    "ffs = [first_last_system_call_feats, all_feats]\n",
    "\n",
    "# extract features\n",
    "print \"extracting training features...\"\n",
    "X_train,global_feat_dict,t_train,train_ids = extract_feats(ffs, train_dir)\n",
    "print \"done extracting training features\"\n",
    "print"
   ]
  },
  {
   "cell_type": "code",
   "execution_count": 3,
   "metadata": {
    "collapsed": false
   },
   "outputs": [
    {
     "ename": "SyntaxError",
     "evalue": "invalid syntax (<ipython-input-3-7f5b57bef041>, line 1)",
     "output_type": "error",
     "traceback": [
      "\u001b[0;36m  File \u001b[0;32m\"<ipython-input-3-7f5b57bef041>\"\u001b[0;36m, line \u001b[0;32m1\u001b[0m\n\u001b[0;31m    ff=\u001b[0m\n\u001b[0m       ^\u001b[0m\n\u001b[0;31mSyntaxError\u001b[0m\u001b[0;31m:\u001b[0m invalid syntax\n"
     ]
    }
   ],
   "source": [
    "ff=\n",
    "print type(ff)"
   ]
  },
  {
   "cell_type": "code",
   "execution_count": 3,
   "metadata": {
    "collapsed": false
   },
   "outputs": [
    {
     "data": {
      "text/plain": [
       "(3086, 133)"
      ]
     },
     "execution_count": 3,
     "metadata": {},
     "output_type": "execute_result"
    }
   ],
   "source": [
    "X_train.shape"
   ]
  },
  {
   "cell_type": "code",
   "execution_count": 113,
   "metadata": {
    "collapsed": false
   },
   "outputs": [
    {
     "name": "stdout",
     "output_type": "stream",
     "text": [
      "2528\n",
      "()\n",
      "(2528,)\n"
     ]
    }
   ],
   "source": [
    "Partition=1./5.\n",
    "trainNum=X_train.shape[0]\n",
    "Numbers=int(trainNum*Partition)\n",
    "randomInd=[]\n",
    "for i in xrange(Numbers):\n",
    "    randomInd.append(random.randint(0, trainNum-1))\n",
    "X_train_test=X_train[randomInd]\n",
    "t_train_test=t_train[randomInd]\n",
    "train_ids_test=[train_ids[ii] for ii in randomInd]\n",
    "\n",
    "X_train_train=np.delete(X_train,randomInd,0)\n",
    "t_train_train=np.delete(t_train,randomInd,0)\n",
    "train_ids_train=np.delete(train_ids,randomInd,0)\n",
    "\n",
    "\n",
    "# print X_train_train\n",
    "print len(train_ids_train)\n",
    "print X_train_train.shape\n",
    "print t_train_train.shape\n"
   ]
  },
  {
   "cell_type": "code",
   "execution_count": 96,
   "metadata": {
    "collapsed": false
   },
   "outputs": [
    {
     "name": "stdout",
     "output_type": "stream",
     "text": [
      "learning...\n",
      "done learning\n",
      "\n"
     ]
    }
   ],
   "source": [
    "from classification_starter import *\n",
    "\n",
    "# TODO train here, and learn your classification parameters\n",
    "print \"learning...\"\n",
    "learned_W = np.random.random((len(global_feat_dict),len(util.malware_classes)))\n",
    "print \"done learning\"\n",
    "print"
   ]
  },
  {
   "cell_type": "code",
   "execution_count": 62,
   "metadata": {
    "collapsed": false
   },
   "outputs": [
    {
     "name": "stdout",
     "output_type": "stream",
     "text": [
      "extracting test features...\n",
      "done extracting test features\n",
      "\n"
     ]
    }
   ],
   "source": [
    "from classification_starter import *\n",
    "\n",
    "# get rid of training data and load test data\n",
    "del X_train\n",
    "del t_train\n",
    "del train_ids\n",
    "print \"extracting test features...\"\n",
    "X_test,_,t_ignore,test_ids = extract_feats(ffs, test_dir, global_feat_dict=global_feat_dict)\n",
    "print \"done extracting test features\"\n",
    "print"
   ]
  },
  {
   "cell_type": "code",
   "execution_count": 77,
   "metadata": {
    "collapsed": false
   },
   "outputs": [
    {
     "name": "stdout",
     "output_type": "stream",
     "text": [
      "making predictions...\n",
      "done making predictions\n",
      "[ 0.  0.  0. ...,  0.  0.  0.]\n",
      "(3724,)\n"
     ]
    }
   ],
   "source": [
    "from classification_starter import *\n",
    "\n",
    "\n",
    "# TODO make predictions on text data and write them out\n",
    "print \"making predictions...\"\n",
    "preds = np.argmax(X_test.dot(learned_W),axis=1)\n",
    "print \"done making predictions\"\n",
    "\n"
   ]
  },
  {
   "cell_type": "code",
   "execution_count": 78,
   "metadata": {
    "collapsed": false
   },
   "outputs": [
    {
     "name": "stdout",
     "output_type": "stream",
     "text": [
      "writing predictions...\n",
      "done!\n"
     ]
    }
   ],
   "source": [
    "print \"writing predictions...\"\n",
    "util.write_predictions(preds, test_ids, outputfile)\n",
    "print \"done!\""
   ]
  },
  {
   "cell_type": "code",
   "execution_count": null,
   "metadata": {
    "collapsed": true
   },
   "outputs": [],
   "source": [
    "### Creating uniform vectors\n",
    "\n",
    "from classification_starter import *\n",
    "\n",
    "\n",
    "# TODO make predictions on text data and write them out\n",
    "print \"making predictions...\"\n",
    "preds = np.ones(X_test.shape[0])*0#np.argmax(X_test.dot(learned_W),axis=1)\n",
    "print \"done making predictions\"\n",
    "print preds\n",
    "print preds.shape\n",
    "\n",
    "print \"writing predictions...\"\n",
    "util.write_predictions(preds, test_ids, outputfile)\n",
    "print \"done!\""
   ]
  }
 ],
 "metadata": {
  "kernelspec": {
   "display_name": "Python 2",
   "language": "python",
   "name": "python2"
  },
  "language_info": {
   "codemirror_mode": {
    "name": "ipython",
    "version": 2
   },
   "file_extension": ".py",
   "mimetype": "text/x-python",
   "name": "python",
   "nbconvert_exporter": "python",
   "pygments_lexer": "ipython2",
   "version": "2.7.13"
  }
 },
 "nbformat": 4,
 "nbformat_minor": 0
}
