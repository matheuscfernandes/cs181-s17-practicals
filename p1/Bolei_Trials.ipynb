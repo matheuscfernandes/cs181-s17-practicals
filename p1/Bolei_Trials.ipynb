{
 "cells": [
  {
   "cell_type": "code",
   "execution_count": 68,
   "metadata": {
    "collapsed": false
   },
   "outputs": [],
   "source": [
    "import pandas as pd\n",
    "import time\n",
    "import numpy as np\n",
    "import matplotlib.pyplot as plt\n",
    "from sklearn.linear_model import LinearRegression\n",
    "from sklearn.linear_model import ElasticNet\n",
    "from sklearn.linear_model import ElasticNetCV\n",
    "from sklearn.ensemble import RandomForestRegressor\n",
    "\n",
    "from sklearn import preprocessing"
   ]
  },
  {
   "cell_type": "code",
   "execution_count": 119,
   "metadata": {
    "collapsed": false
   },
   "outputs": [
    {
     "data": {
      "text/html": [
       "<div>\n",
       "<table border=\"1\" class=\"dataframe\">\n",
       "  <thead>\n",
       "    <tr style=\"text-align: right;\">\n",
       "      <th></th>\n",
       "      <th>smiles</th>\n",
       "      <th>feat_001</th>\n",
       "      <th>feat_002</th>\n",
       "      <th>feat_003</th>\n",
       "      <th>feat_004</th>\n",
       "      <th>feat_005</th>\n",
       "      <th>feat_006</th>\n",
       "      <th>feat_007</th>\n",
       "      <th>feat_008</th>\n",
       "      <th>feat_009</th>\n",
       "      <th>...</th>\n",
       "      <th>feat_248</th>\n",
       "      <th>feat_249</th>\n",
       "      <th>feat_250</th>\n",
       "      <th>feat_251</th>\n",
       "      <th>feat_252</th>\n",
       "      <th>feat_253</th>\n",
       "      <th>feat_254</th>\n",
       "      <th>feat_255</th>\n",
       "      <th>feat_256</th>\n",
       "      <th>gap</th>\n",
       "    </tr>\n",
       "  </thead>\n",
       "  <tbody>\n",
       "    <tr>\n",
       "      <th>0</th>\n",
       "      <td>c1ccc(o1)-c1ccc(s1)-c1cnc(-c2scc3[se]ccc23)c2n...</td>\n",
       "      <td>0.0</td>\n",
       "      <td>0.0</td>\n",
       "      <td>0.0</td>\n",
       "      <td>0.0</td>\n",
       "      <td>1.0</td>\n",
       "      <td>0.0</td>\n",
       "      <td>1.0</td>\n",
       "      <td>0.0</td>\n",
       "      <td>0.0</td>\n",
       "      <td>...</td>\n",
       "      <td>1.0</td>\n",
       "      <td>0.0</td>\n",
       "      <td>0.0</td>\n",
       "      <td>0.0</td>\n",
       "      <td>0.0</td>\n",
       "      <td>0.0</td>\n",
       "      <td>0.0</td>\n",
       "      <td>0.0</td>\n",
       "      <td>0.0</td>\n",
       "      <td>1.19</td>\n",
       "    </tr>\n",
       "    <tr>\n",
       "      <th>1</th>\n",
       "      <td>C1=CC=C(C1)c1cc2ncc3c4[SiH2]C=Cc4ncc3c2c2=C[Si...</td>\n",
       "      <td>1.0</td>\n",
       "      <td>0.0</td>\n",
       "      <td>0.0</td>\n",
       "      <td>0.0</td>\n",
       "      <td>1.0</td>\n",
       "      <td>0.0</td>\n",
       "      <td>1.0</td>\n",
       "      <td>0.0</td>\n",
       "      <td>0.0</td>\n",
       "      <td>...</td>\n",
       "      <td>1.0</td>\n",
       "      <td>0.0</td>\n",
       "      <td>0.0</td>\n",
       "      <td>1.0</td>\n",
       "      <td>0.0</td>\n",
       "      <td>0.0</td>\n",
       "      <td>0.0</td>\n",
       "      <td>0.0</td>\n",
       "      <td>0.0</td>\n",
       "      <td>1.60</td>\n",
       "    </tr>\n",
       "    <tr>\n",
       "      <th>2</th>\n",
       "      <td>[nH]1c-2c([SiH2]c3cc(-c4scc5C=CCc45)c4nsnc4c-2...</td>\n",
       "      <td>1.0</td>\n",
       "      <td>0.0</td>\n",
       "      <td>0.0</td>\n",
       "      <td>0.0</td>\n",
       "      <td>1.0</td>\n",
       "      <td>1.0</td>\n",
       "      <td>1.0</td>\n",
       "      <td>0.0</td>\n",
       "      <td>0.0</td>\n",
       "      <td>...</td>\n",
       "      <td>1.0</td>\n",
       "      <td>0.0</td>\n",
       "      <td>0.0</td>\n",
       "      <td>0.0</td>\n",
       "      <td>1.0</td>\n",
       "      <td>0.0</td>\n",
       "      <td>0.0</td>\n",
       "      <td>0.0</td>\n",
       "      <td>0.0</td>\n",
       "      <td>1.49</td>\n",
       "    </tr>\n",
       "    <tr>\n",
       "      <th>3</th>\n",
       "      <td>[nH]1c2-c3occc3Cc2c2c1cc(-c1cccc3=C[SiH2]C=c13...</td>\n",
       "      <td>1.0</td>\n",
       "      <td>0.0</td>\n",
       "      <td>0.0</td>\n",
       "      <td>0.0</td>\n",
       "      <td>1.0</td>\n",
       "      <td>1.0</td>\n",
       "      <td>1.0</td>\n",
       "      <td>0.0</td>\n",
       "      <td>0.0</td>\n",
       "      <td>...</td>\n",
       "      <td>1.0</td>\n",
       "      <td>0.0</td>\n",
       "      <td>0.0</td>\n",
       "      <td>0.0</td>\n",
       "      <td>1.0</td>\n",
       "      <td>0.0</td>\n",
       "      <td>0.0</td>\n",
       "      <td>0.0</td>\n",
       "      <td>0.0</td>\n",
       "      <td>1.36</td>\n",
       "    </tr>\n",
       "    <tr>\n",
       "      <th>4</th>\n",
       "      <td>c1cnc2c3oc4cc(-c5ncncn5)c5nsnc5c4c3c3cocc3c2c1</td>\n",
       "      <td>0.0</td>\n",
       "      <td>0.0</td>\n",
       "      <td>0.0</td>\n",
       "      <td>0.0</td>\n",
       "      <td>1.0</td>\n",
       "      <td>0.0</td>\n",
       "      <td>1.0</td>\n",
       "      <td>0.0</td>\n",
       "      <td>0.0</td>\n",
       "      <td>...</td>\n",
       "      <td>1.0</td>\n",
       "      <td>0.0</td>\n",
       "      <td>0.0</td>\n",
       "      <td>0.0</td>\n",
       "      <td>0.0</td>\n",
       "      <td>0.0</td>\n",
       "      <td>0.0</td>\n",
       "      <td>0.0</td>\n",
       "      <td>0.0</td>\n",
       "      <td>1.98</td>\n",
       "    </tr>\n",
       "  </tbody>\n",
       "</table>\n",
       "<p>5 rows × 258 columns</p>\n",
       "</div>"
      ],
      "text/plain": [
       "                                              smiles  feat_001  feat_002  \\\n",
       "0  c1ccc(o1)-c1ccc(s1)-c1cnc(-c2scc3[se]ccc23)c2n...       0.0       0.0   \n",
       "1  C1=CC=C(C1)c1cc2ncc3c4[SiH2]C=Cc4ncc3c2c2=C[Si...       1.0       0.0   \n",
       "2  [nH]1c-2c([SiH2]c3cc(-c4scc5C=CCc45)c4nsnc4c-2...       1.0       0.0   \n",
       "3  [nH]1c2-c3occc3Cc2c2c1cc(-c1cccc3=C[SiH2]C=c13...       1.0       0.0   \n",
       "4     c1cnc2c3oc4cc(-c5ncncn5)c5nsnc5c4c3c3cocc3c2c1       0.0       0.0   \n",
       "\n",
       "   feat_003  feat_004  feat_005  feat_006  feat_007  feat_008  feat_009  ...   \\\n",
       "0       0.0       0.0       1.0       0.0       1.0       0.0       0.0  ...    \n",
       "1       0.0       0.0       1.0       0.0       1.0       0.0       0.0  ...    \n",
       "2       0.0       0.0       1.0       1.0       1.0       0.0       0.0  ...    \n",
       "3       0.0       0.0       1.0       1.0       1.0       0.0       0.0  ...    \n",
       "4       0.0       0.0       1.0       0.0       1.0       0.0       0.0  ...    \n",
       "\n",
       "   feat_248  feat_249  feat_250  feat_251  feat_252  feat_253  feat_254  \\\n",
       "0       1.0       0.0       0.0       0.0       0.0       0.0       0.0   \n",
       "1       1.0       0.0       0.0       1.0       0.0       0.0       0.0   \n",
       "2       1.0       0.0       0.0       0.0       1.0       0.0       0.0   \n",
       "3       1.0       0.0       0.0       0.0       1.0       0.0       0.0   \n",
       "4       1.0       0.0       0.0       0.0       0.0       0.0       0.0   \n",
       "\n",
       "   feat_255  feat_256   gap  \n",
       "0       0.0       0.0  1.19  \n",
       "1       0.0       0.0  1.60  \n",
       "2       0.0       0.0  1.49  \n",
       "3       0.0       0.0  1.36  \n",
       "4       0.0       0.0  1.98  \n",
       "\n",
       "[5 rows x 258 columns]"
      ]
     },
     "execution_count": 119,
     "metadata": {},
     "output_type": "execute_result"
    }
   ],
   "source": [
    "\"\"\"\n",
    "Read in train and test as Pandas DataFrames\n",
    "\"\"\"\n",
    "df_train = pd.read_csv(\"train.csv\")\n",
    "df_test = pd.read_csv(\"test_short.csv\")\n",
    "df_train.head()"
   ]
  },
  {
   "cell_type": "code",
   "execution_count": 122,
   "metadata": {
    "collapsed": false
   },
   "outputs": [],
   "source": [
    "names2=['feat_002', 'feat_003', 'feat_004', 'feat_008', 'feat_009', 'feat_010', 'feat_011', 'feat_012', 'feat_013', 'feat_014', 'feat_015', 'feat_016', 'feat_017', 'feat_018', 'feat_019', 'feat_020', 'feat_021', 'feat_022', 'feat_023', 'feat_024', 'feat_026', 'feat_027', 'feat_028', 'feat_029', 'feat_030', 'feat_031', 'feat_032', 'feat_033', 'feat_034', 'feat_035', 'feat_036', 'feat_038', 'feat_039', 'feat_040', 'feat_041', 'feat_042', 'feat_043', 'feat_045', 'feat_046', 'feat_047', 'feat_048', 'feat_049', 'feat_050', 'feat_051', 'feat_052', 'feat_053', 'feat_054', 'feat_055', 'feat_056', 'feat_057', 'feat_058', 'feat_059', 'feat_060', 'feat_061', 'feat_062', 'feat_063', 'feat_064', 'feat_065', 'feat_066', 'feat_067', 'feat_070', 'feat_071', 'feat_073', 'feat_074', 'feat_075', 'feat_076', 'feat_077', 'feat_078', 'feat_079', 'feat_080', 'feat_081', 'feat_082', 'feat_083', 'feat_084', 'feat_085', 'feat_086', 'feat_088', 'feat_089', 'feat_091', 'feat_092', 'feat_093', 'feat_094', 'feat_095', 'feat_096', 'feat_097', 'feat_098', 'feat_099', 'feat_100', 'feat_101', 'feat_103', 'feat_104', 'feat_105', 'feat_106', 'feat_107', 'feat_108', 'feat_109', 'feat_110', 'feat_111', 'feat_112', 'feat_113', 'feat_114', 'feat_115', 'feat_116', 'feat_117', 'feat_118', 'feat_120', 'feat_121', 'feat_122', 'feat_124', 'feat_125', 'feat_127', 'feat_128', 'feat_129', 'feat_130', 'feat_131', 'feat_133', 'feat_134', 'feat_135', 'feat_136', 'feat_137', 'feat_138', 'feat_139', 'feat_140', 'feat_141', 'feat_142', 'feat_143', 'feat_144', 'feat_145', 'feat_146', 'feat_147', 'feat_148', 'feat_149', 'feat_150', 'feat_151', 'feat_152', 'feat_153', 'feat_154', 'feat_155', 'feat_156', 'feat_157', 'feat_158', 'feat_159', 'feat_160', 'feat_161', 'feat_162', 'feat_163', 'feat_164', 'feat_165', 'feat_166', 'feat_167', 'feat_168', 'feat_169', 'feat_170', 'feat_171', 'feat_172', 'feat_174', 'feat_175', 'feat_177', 'feat_178', 'feat_179', 'feat_180', 'feat_181', 'feat_182', 'feat_183', 'feat_184', 'feat_185', 'feat_186', 'feat_188', 'feat_189', 'feat_190', 'feat_191', 'feat_192', 'feat_193', 'feat_194', 'feat_195', 'feat_197', 'feat_198', 'feat_201', 'feat_202', 'feat_203', 'feat_204', 'feat_205', 'feat_206', 'feat_207', 'feat_209', 'feat_210', 'feat_211', 'feat_212', 'feat_213', 'feat_214', 'feat_215', 'feat_216', 'feat_217', 'feat_219', 'feat_220', 'feat_221', 'feat_222', 'feat_223', 'feat_224', 'feat_227', 'feat_228', 'feat_229', 'feat_230', 'feat_231', 'feat_232', 'feat_233', 'feat_234', 'feat_235', 'feat_236', 'feat_237', 'feat_238', 'feat_239', 'feat_240', 'feat_241', 'feat_242', 'feat_244', 'feat_245', 'feat_246', 'feat_247', 'feat_249', 'feat_250', 'feat_253', 'feat_254', 'feat_255', 'feat_256']\n",
    "df_train_short = df_train.drop(names2, axis=1)\n",
    "df_test_short = df_test.drop(names2, axis=1)\n",
    "#store gap values\n",
    "Y_train = df_train_short.gap.values\n",
    "#row where testing examples start\n",
    "test_idx = df_train_short.shape[0]\n",
    "#delete 'Id' column\n",
    "df_test_short = df_test_short.drop(['Id'], axis=1)\n",
    "#delete 'gap' column\n",
    "df_train_short = df_train_short.drop(['gap'], axis=1)\n"
   ]
  },
  {
   "cell_type": "code",
   "execution_count": 121,
   "metadata": {
    "collapsed": false
   },
   "outputs": [],
   "source": [
    "# df_train2=df_train.drop(['smiles'],axis=1)\n",
    "# smiles=df_train['smiles']\n",
    "\n",
    "# scaler = preprocessing.StandardScaler().fit(df_train2)\n",
    "# df_train2=scaler.transform(df_train2) \n",
    "# df_train2=pd.DataFrame(data=df_train2[0:,0:])\n",
    "# #               index=df_train2[1:,0],\n",
    "# #               columns=df_train2[0,1:])\n",
    "# df_train2.insert(0, 'smiles', smiles)\n",
    "# df_train2.head()"
   ]
  },
  {
   "cell_type": "code",
   "execution_count": 250,
   "metadata": {
    "collapsed": false,
    "scrolled": false
   },
   "outputs": [
    {
     "name": "stdout",
     "output_type": "stream",
     "text": [
      "Train features: (800000, 31)\n",
      "Train features: (200000, 31)\n",
      "Train features: (800000,)\n",
      "Train features: (200000,)\n"
     ]
    }
   ],
   "source": [
    "\n",
    "df_test_short2 = df_test_short.drop(['smiles'], axis=1)\n",
    "df_train_short2 = df_train_short.drop(['smiles'], axis=1)\n",
    "vals_test = df_test_short2.values\n",
    "vals_train = df_train_short2.values\n",
    "\n",
    "#Divide the matrix into 5 parts\n",
    "Test_num = 5;\n",
    "piecesize = int(len(df_train)/5);\n",
    "\n",
    "X_train_train = vals_train[:(Test_num-1)*piecesize]\n",
    "X_train_test = vals_train[(Test_num-1)*piecesize:]\n",
    "Y_train_train =  Y_train[:(Test_num-1)*piecesize]\n",
    "Y_train_test = Y_train[(Test_num-1)*piecesize:]\n",
    "\n",
    "\n",
    "X_train_train = preprocessing.scale(X_train_train.T)\n",
    "X_train_train = X_train_train.T\n",
    "X_train_test = preprocessing.scale(X_train_test.T)\n",
    "X_train_test = X_train_test.T\n",
    "\n",
    "print (\"Train features:\", X_train_train.shape)\n",
    "print (\"Train features:\", X_train_test.shape)\n",
    "print (\"Train features:\", Y_train_train.shape)\n",
    "print (\"Train features:\", Y_train_test.shape) \n"
   ]
  },
  {
   "cell_type": "code",
   "execution_count": 224,
   "metadata": {
    "collapsed": false
   },
   "outputs": [],
   "source": [
    "def Polynomial_basis(X,n):\n",
    "    N=len(X)\n",
    "    [length,width]\n",
    "    M = np.ones(X.shape)\n",
    "    M = M.T\n",
    "    for i in range(1,n+1):\n",
    "        M = np.vstack([M,np.power(X,i).T])\n",
    "    return M.T\n",
    "\n",
    "# Polynomial_basis(X_train_test,1).shape"
   ]
  },
  {
   "cell_type": "code",
   "execution_count": 241,
   "metadata": {
    "collapsed": true
   },
   "outputs": [],
   "source": [
    "def Sin_basis(X,n):\n",
    "    N=len(X)\n",
    "    [length,width]\n",
    "    M = np.ones(X.shape)\n",
    "    M = M.T\n",
    "    for i in range(1,n+1):\n",
    "        M = np.vstack([M,np.sin(3.141592/i*X).T])\n",
    "    return M.T\n",
    "\n",
    "# Polynomial_basis(X_train_test,1).shape"
   ]
  },
  {
   "cell_type": "code",
   "execution_count": 251,
   "metadata": {
    "collapsed": false
   },
   "outputs": [
    {
     "name": "stdout",
     "output_type": "stream",
     "text": [
      "(200000, 279)\n",
      "(800000, 279)\n"
     ]
    }
   ],
   "source": [
    "order = 8\n",
    "X_train_train = Polynomial_basis(X_train_train,order)\n",
    "X_train_test = Polynomial_basis(X_train_test,order)\n",
    "print(X_train_test.shape)\n",
    "print(X_train_train.shape)"
   ]
  },
  {
   "cell_type": "code",
   "execution_count": 247,
   "metadata": {
    "collapsed": false
   },
   "outputs": [
    {
     "name": "stdout",
     "output_type": "stream",
     "text": [
      "(200000, 279)\n",
      "(800000, 279)\n"
     ]
    }
   ],
   "source": [
    "order = 8\n",
    "X_train_train = Sin_basis(X_train_train,order)\n",
    "X_train_test = Sin_basis(X_train_test,order)\n",
    "print(X_train_test.shape)\n",
    "print(X_train_train.shape)"
   ]
  },
  {
   "cell_type": "code",
   "execution_count": 248,
   "metadata": {
    "collapsed": false
   },
   "outputs": [],
   "source": [
    "def RMSE(Y,Y_Pred):\n",
    "    N=len(Y)\n",
    "    Err=0\n",
    "    for i in range(N):\n",
    "        Err=Err+(Y[i]-Y_Pred[i])**2\n",
    "    \n",
    "    Err=(1./N*Err)**(1./2.)\n",
    "    return Err"
   ]
  },
  {
   "cell_type": "code",
   "execution_count": 252,
   "metadata": {
    "collapsed": false
   },
   "outputs": [
    {
     "name": "stdout",
     "output_type": "stream",
     "text": [
      "14.554823160171509\n",
      "0.293975950415\n",
      "[ 1.94694984  1.41900551  1.62312341 ...,  1.82027137  2.16169572\n",
      "  1.7179898 ] [ 1.69  1.66  2.32 ...,  2.03  1.74  1.72]\n"
     ]
    }
   ],
   "source": [
    "# Linear Regression \n",
    "LR = LinearRegression()\n",
    "BT=time.time()\n",
    "LR.fit(X_train_train, Y_train_train)\n",
    "ET=time.time()\n",
    "LR_pred = LR.predict(X_train_test)\n",
    "print (ET-BT)\n",
    "print(RMSE(LR_pred,Y_train_test))\n",
    "print(LR_pred,Y_train_test)\n"
   ]
  },
  {
   "cell_type": "code",
   "execution_count": 230,
   "metadata": {
    "collapsed": false
   },
   "outputs": [
    {
     "name": "stdout",
     "output_type": "stream",
     "text": [
      "194.64009594917297\n",
      "0.273412876745\n"
     ]
    }
   ],
   "source": [
    "# Random Forest Regression\n",
    "RF = RandomForestRegressor()\n",
    "BT=time.time()\n",
    "RF.fit(X_train_train, Y_train_train)\n",
    "ET=time.time()\n",
    "RF_pred = RF.predict(X_train_test)\n",
    "print (ET-BT)\n",
    "print(RMSE(RF_pred,Y_train_test))"
   ]
  },
  {
   "cell_type": "code",
   "execution_count": 231,
   "metadata": {
    "collapsed": false
   },
   "outputs": [
    {
     "name": "stderr",
     "output_type": "stream",
     "text": [
      "/Users/Bolei/anaconda/lib/python3.5/site-packages/sklearn/linear_model/coordinate_descent.py:484: ConvergenceWarning: Objective did not converge. You might want to increase the number of iterations. Fitting data with very small alpha may cause precision problems.\n",
      "  ConvergenceWarning)\n"
     ]
    },
    {
     "name": "stdout",
     "output_type": "stream",
     "text": [
      "132.10904812812805\n",
      "0.296296514391\n"
     ]
    }
   ],
   "source": [
    "# Elastic Net Regression\n",
    "EN=ElasticNetCV(n_jobs=-3)\n",
    "BT=time.time()\n",
    "EN.fit(X_train_train, Y_train_train)\n",
    "ET=time.time()\n",
    "EN_pred = EN.predict(X_train_test)\n",
    "print (ET-BT)\n",
    "print(RMSE(EN_pred,Y_train_test))\n"
   ]
  },
  {
   "cell_type": "code",
   "execution_count": 245,
   "metadata": {
    "collapsed": false
   },
   "outputs": [
    {
     "name": "stdout",
     "output_type": "stream",
     "text": [
      "2.7248799800872803\n",
      "0.407498540731\n"
     ]
    }
   ],
   "source": [
    "# Elastic Net Regression\n",
    "MN=ElasticNet(alpha=0.6)\n",
    "BT=time.time()\n",
    "MN.fit(X_train_train, Y_train_train)\n",
    "ET=time.time()\n",
    "MN_pred = MN.predict(X_train_test)\n",
    "print (ET-BT)\n",
    "print(RMSE(MN_pred,Y_train_test))"
   ]
  },
  {
   "cell_type": "code",
   "execution_count": 149,
   "metadata": {
    "collapsed": false
   },
   "outputs": [],
   "source": [
    "# print ('EN Score =',EN.score(X_train_train,Y_train_train))\n",
    "# print ('RF Score =',RF.score(X_train_train,Y_train_train))\n",
    "# print ('LR Score =',LR.score(X_train_train,Y_train_train))\n",
    "# print ('MN Score =',MN.score(X_train_train,Y_train_train))"
   ]
  },
  {
   "cell_type": "code",
   "execution_count": 14,
   "metadata": {
    "collapsed": false
   },
   "outputs": [],
   "source": [
    "def write_to_file(filename, predictions):\n",
    "    with open(filename, \"w\") as f:\n",
    "        f.write(\"Id,Prediction\\n\")\n",
    "        for i,p in enumerate(predictions):\n",
    "            f.write(str(i+1) + \",\" + str(p) + \"\\n\")"
   ]
  },
  {
   "cell_type": "code",
   "execution_count": 19,
   "metadata": {
    "collapsed": false
   },
   "outputs": [
    {
     "ename": "NameError",
     "evalue": "name 'write_to_file' is not defined",
     "output_type": "error",
     "traceback": [
      "\u001b[0;31m---------------------------------------------------------------------------\u001b[0m",
      "\u001b[0;31mNameError\u001b[0m                                 Traceback (most recent call last)",
      "\u001b[0;32m<ipython-input-19-abc3903c6a02>\u001b[0m in \u001b[0;36m<module>\u001b[0;34m()\u001b[0m\n\u001b[0;32m----> 1\u001b[0;31m \u001b[0mwrite_to_file\u001b[0m\u001b[0;34m(\u001b[0m\u001b[0;34m\"sample1.csv\"\u001b[0m\u001b[0;34m,\u001b[0m \u001b[0mLR_pred\u001b[0m\u001b[0;34m)\u001b[0m\u001b[0;34m\u001b[0m\u001b[0m\n\u001b[0m\u001b[1;32m      2\u001b[0m \u001b[0mwrite_to_file\u001b[0m\u001b[0;34m(\u001b[0m\u001b[0;34m\"sample2.csv\"\u001b[0m\u001b[0;34m,\u001b[0m \u001b[0mRF_pred\u001b[0m\u001b[0;34m)\u001b[0m\u001b[0;34m\u001b[0m\u001b[0m\n",
      "\u001b[0;31mNameError\u001b[0m: name 'write_to_file' is not defined"
     ]
    }
   ],
   "source": [
    "write_to_file(\"sample1.csv\", LR_pred)\n",
    "write_to_file(\"sample2.csv\", RF_pred)"
   ]
  },
  {
   "cell_type": "code",
   "execution_count": 128,
   "metadata": {
    "collapsed": false
   },
   "outputs": [],
   "source": [
    "\n"
   ]
  },
  {
   "cell_type": "code",
   "execution_count": 29,
   "metadata": {
    "collapsed": false
   },
   "outputs": [
    {
     "ename": "NameError",
     "evalue": "name 'basis_func_extension' is not defined",
     "output_type": "error",
     "traceback": [
      "\u001b[0;31m---------------------------------------------------------------------------\u001b[0m",
      "\u001b[0;31mNameError\u001b[0m                                 Traceback (most recent call last)",
      "\u001b[0;32m<ipython-input-29-d157fa2745a8>\u001b[0m in \u001b[0;36m<module>\u001b[0;34m()\u001b[0m\n\u001b[0;32m----> 1\u001b[0;31m \u001b[0mpreprocessing\u001b[0m\u001b[0;34m.\u001b[0m\u001b[0mFunctionTransformer\u001b[0m\u001b[0;34m(\u001b[0m\u001b[0mbasis_func_extension\u001b[0m\u001b[0;34m)\u001b[0m\u001b[0;34m\u001b[0m\u001b[0m\n\u001b[0m\u001b[1;32m      2\u001b[0m \u001b[0;34m\u001b[0m\u001b[0m\n\u001b[1;32m      3\u001b[0m \u001b[0;32mdef\u001b[0m \u001b[0mbasis_func_extension\u001b[0m\u001b[0;34m(\u001b[0m\u001b[0mX\u001b[0m\u001b[0;34m,\u001b[0m\u001b[0md\u001b[0m\u001b[0;34m=\u001b[0m\u001b[0;36m10\u001b[0m\u001b[0;34m)\u001b[0m\u001b[0;34m:\u001b[0m\u001b[0;34m\u001b[0m\u001b[0m\n\u001b[1;32m      4\u001b[0m     \u001b[0mcurr_train\u001b[0m \u001b[0;34m=\u001b[0m \u001b[0mnp\u001b[0m\u001b[0;34m.\u001b[0m\u001b[0mones\u001b[0m\u001b[0;34m(\u001b[0m\u001b[0mX\u001b[0m\u001b[0;34m.\u001b[0m\u001b[0mshape\u001b[0m\u001b[0;34m)\u001b[0m\u001b[0;34m\u001b[0m\u001b[0m\n\u001b[1;32m      5\u001b[0m     \u001b[0;32mfor\u001b[0m \u001b[0mi\u001b[0m \u001b[0;32min\u001b[0m \u001b[0mnp\u001b[0m\u001b[0;34m.\u001b[0m\u001b[0marange\u001b[0m\u001b[0;34m(\u001b[0m\u001b[0;36m0\u001b[0m\u001b[0;34m,\u001b[0m \u001b[0md\u001b[0m\u001b[0;34m)\u001b[0m\u001b[0;34m:\u001b[0m\u001b[0;34m\u001b[0m\u001b[0m\n",
      "\u001b[0;31mNameError\u001b[0m: name 'basis_func_extension' is not defined"
     ]
    }
   ],
   "source": [
    "preprocessing.FunctionTransformer(basis_func_extension)\n",
    "\n"
   ]
  },
  {
   "cell_type": "code",
   "execution_count": null,
   "metadata": {
    "collapsed": true
   },
   "outputs": [],
   "source": []
  }
 ],
 "metadata": {
  "anaconda-cloud": {},
  "kernelspec": {
   "display_name": "Python [Root]",
   "language": "python",
   "name": "Python [Root]"
  },
  "language_info": {
   "codemirror_mode": {
    "name": "ipython",
    "version": 3
   },
   "file_extension": ".py",
   "mimetype": "text/x-python",
   "name": "python",
   "nbconvert_exporter": "python",
   "pygments_lexer": "ipython3",
   "version": "3.5.2"
  }
 },
 "nbformat": 4,
 "nbformat_minor": 0
}
